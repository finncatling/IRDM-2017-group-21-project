{
 "cells": [
  {
   "cell_type": "markdown",
   "metadata": {},
   "source": [
    "# Vocabulary-specific GloVe embeddings"
   ]
  },
  {
   "cell_type": "code",
   "execution_count": null,
   "metadata": {},
   "outputs": [],
   "source": [
    "import os\n",
    "import pandas as pd"
   ]
  },
  {
   "cell_type": "code",
   "execution_count": null,
   "metadata": {},
   "outputs": [],
   "source": [
    "def parse_glove(vecs):\n",
    "    \"\"\"Parses embeddings.\"\"\"\n",
    "    print(\"Building dataframe...\")\n",
    "    for emb in vecs:\n",
    "        emb = emb.split(' ')\n",
    "        emb[-1] = emb[-1][:-2]  # remove newline symbol\n",
    "        try:\n",
    "            df[emb[0]] = [float(i) for i in emb[1:]]\n",
    "        except NameError:\n",
    "            df = pd.DataFrame({\n",
    "                emb[0]: [float(i) for i in emb[1:]]\n",
    "            })\n",
    "    return df"
   ]
  },
  {
   "cell_type": "code",
   "execution_count": null,
   "metadata": {},
   "outputs": [],
   "source": [
    "def read_glove(\n",
    "    vocab,\n",
    "    path=os.path.join('path', 'to','glove.42B.300d.txt')\n",
    "):\n",
    "    \"\"\"Loads in huge GloVe file line-by-line, filters out\n",
    "        embeddings for words not in vocabulary.\n",
    "    \n",
    "    Args:\n",
    "        vocab (set): Vocabulary from train/validation/test data\n",
    "        path (str): Path to caseless GloVe file\n",
    "    \n",
    "    Returns:\n",
    "        DataFrame: Vocab-specific embeddings\n",
    "        \n",
    "    \"\"\"\n",
    "    print(\"Vocab length is\", len(vocab))\n",
    "    vecs = []\n",
    "    \n",
    "    with open(path, encoding=\"utf8\") as file:\n",
    "        # loop more than length of embeddings file (~1.9M lines)\n",
    "        for i in range(2000000):\n",
    "            if i % 100000 == 0:\n",
    "                print(\"Read\", i, \"lines...\")\n",
    "            try:\n",
    "                line = next(file)\n",
    "                if line.split(' ')[0] in vocab:\n",
    "                    vecs.append(line)\n",
    "            except StopIteration:\n",
    "                print(\"Finished reading file...\")\n",
    "                df = parse_glove(vecs)\n",
    "                break\n",
    "    \n",
    "    print(\"Found\", len(df.columns), \"embeddings.\")\n",
    "    return df.T"
   ]
  },
  {
   "cell_type": "code",
   "execution_count": null,
   "metadata": {},
   "outputs": [],
   "source": [
    "read_glove().to_csv(\n",
    "    os.path.join('path', 'to', 'glove_train_caseless.csv')\n",
    ")"
   ]
  }
 ],
 "metadata": {
  "kernelspec": {
   "display_name": "Python [conda env:python3]",
   "language": "python",
   "name": "conda-env-python3-py"
  },
  "language_info": {
   "codemirror_mode": {
    "name": "ipython",
    "version": 3
   },
   "file_extension": ".py",
   "mimetype": "text/x-python",
   "name": "python",
   "nbconvert_exporter": "python",
   "pygments_lexer": "ipython3",
   "version": "3.5.3"
  }
 },
 "nbformat": 4,
 "nbformat_minor": 2
}
